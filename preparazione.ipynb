{
 "cells": [
  {
   "cell_type": "code",
   "execution_count": 1,
   "metadata": {},
   "outputs": [],
   "source": [
    "import pandas as pd\n",
    "from sklearn.model_selection import train_test_split"
   ]
  },
  {
   "cell_type": "code",
   "execution_count": 2,
   "metadata": {},
   "outputs": [],
   "source": [
    "dataset = pd.read_csv(\"appointment_data.csv\")"
   ]
  },
  {
   "cell_type": "code",
   "execution_count": 4,
   "metadata": {},
   "outputs": [
    {
     "name": "stdout",
     "output_type": "stream",
     "text": [
      "dataset -> (88421, 14)\n",
      "train_set -> (70736, 14), with percent 0.79999095\n",
      "test_set -> (17685, 14), with percent 0.20000905\n",
      "True\n"
     ]
    }
   ],
   "source": [
    "train, test = train_test_split(dataset, test_size=0.20, random_state=0)\n",
    "train.to_csv(\"train.csv\", index=False)\n",
    "test.to_csv(\"test.csv\", index=False)\n",
    "\n",
    "print(\"dataset ->\", dataset.shape)\n",
    "print(\"train_set -> %s, with percent %.8f\" %(train.shape, train.shape[0]/dataset.shape[0]))\n",
    "print(\"test_set -> %s, with percent %.8f\" %(test.shape, test.shape[0]/dataset.shape[0]))\n",
    "print(train.shape[0]+test.shape[0]==dataset.shape[0])"
   ]
  },
  {
   "cell_type": "code",
   "execution_count": null,
   "metadata": {},
   "outputs": [],
   "source": []
  }
 ],
 "metadata": {
  "kernelspec": {
   "display_name": "Python 3",
   "language": "python",
   "name": "python3"
  },
  "language_info": {
   "codemirror_mode": {
    "name": "ipython",
    "version": 3
   },
   "file_extension": ".py",
   "mimetype": "text/x-python",
   "name": "python",
   "nbconvert_exporter": "python",
   "pygments_lexer": "ipython3",
   "version": "3.7.6"
  }
 },
 "nbformat": 4,
 "nbformat_minor": 4
}
